{
  "nbformat": 4,
  "nbformat_minor": 0,
  "metadata": {
    "colab": {
      "provenance": []
    },
    "kernelspec": {
      "name": "python3",
      "display_name": "Python 3"
    },
    "language_info": {
      "name": "python"
    }
  },
  "cells": [
    {
      "cell_type": "code",
      "execution_count": null,
      "metadata": {
        "id": "ocby0kJSaRqn"
      },
      "outputs": [],
      "source": [
        "import pandas as pd\n",
        "\n",
        "data_files = ['/content/drive/MyDrive/processed.cleveland.data',\n",
        "              '/content/drive/MyDrive/processed.hungarian.data',\n",
        "              '/content/drive/MyDrive/processed.switzerland.data',\n",
        "              '/content/drive/MyDrive/processed.va.data']\n",
        "\n",
        "delimiter = ','\n",
        "\n",
        "column_names = ['age', 'sex', 'cp', 'trestbps', 'chol', 'fbs', 'restecg', 'thalach', 'exang', 'oldpeak', 'slope', 'ca', 'thal', 'output']\n",
        "\n",
        "data_frames = []\n",
        "\n",
        "for data_file in data_files:\n",
        "    df = pd.read_csv(data_file, delimiter=delimiter, header=None, names=column_names)\n",
        "    data_frames.append(df)\n",
        "\n",
        "combined_df = pd.concat(data_frames, ignore_index=True)\n",
        "\n",
        "combined_csv_file = '/content/drive/MyDrive/data.csv'\n",
        "combined_df.to_csv(combined_csv_file, index=False)"
      ]
    },
    {
      "cell_type": "code",
      "source": [
        "from google.colab import drive\n",
        "drive.mount('/content/drive')"
      ],
      "metadata": {
        "colab": {
          "base_uri": "https://localhost:8080/"
        },
        "id": "fosZHkd0apqd",
        "outputId": "b15fac46-b4ae-46ff-fe2c-3983c5964a41"
      },
      "execution_count": null,
      "outputs": [
        {
          "output_type": "stream",
          "name": "stdout",
          "text": [
            "Drive already mounted at /content/drive; to attempt to forcibly remount, call drive.mount(\"/content/drive\", force_remount=True).\n"
          ]
        }
      ]
    }
  ]
}